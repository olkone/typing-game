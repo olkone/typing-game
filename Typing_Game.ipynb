{
 "cells": [
  {
   "cell_type": "code",
   "execution_count": 7,
   "metadata": {},
   "outputs": [],
   "source": [
    "from lxml import etree"
   ]
  },
  {
   "cell_type": "code",
   "execution_count": 8,
   "metadata": {},
   "outputs": [],
   "source": [
    "import lxml\n"
   ]
  },
  {
   "cell_type": "code",
   "execution_count": 9,
   "metadata": {},
   "outputs": [],
   "source": [
    "import time\n",
    "import random\n",
    "import bs4\n",
    "import requests\n",
    "import lxml"
   ]
  },
  {
   "cell_type": "code",
   "execution_count": 10,
   "metadata": {},
   "outputs": [
    {
     "name": "stdout",
     "output_type": "stream",
     "text": [
      "How fast can you type?\n",
      "A randomly generated quote will appear.\n",
      "It's your job to accurately copy the quote as fast as you can.\n",
      "--------------------------------------------------------------\n",
      "PLAYER = o\n",
      "--------------------------------------------------------------\n",
      "Incorrect input. Try again.\n",
      "---------------------------\n",
      "ROUND 1\n"
     ]
    },
    {
     "ename": "FeatureNotFound",
     "evalue": "Couldn't find a tree builder with the features you requested: lxml. Do you need to install a parser library?",
     "output_type": "error",
     "traceback": [
      "\u001b[0;31m---------------------------------------------------------------------------\u001b[0m",
      "\u001b[0;31mFeatureNotFound\u001b[0m                           Traceback (most recent call last)",
      "\u001b[1;32m/Users/Oliver/Projects/typing-game/Typing_Game.ipynb Cell 5'\u001b[0m in \u001b[0;36m<cell line: 52>\u001b[0;34m()\u001b[0m\n\u001b[1;32m     <a href='vscode-notebook-cell:/Users/Oliver/Projects/typing-game/Typing_Game.ipynb#ch0000001?line=54'>55</a>\u001b[0m seed \u001b[39m=\u001b[39m random\u001b[39m.\u001b[39mrandint(\u001b[39m1\u001b[39m,(\u001b[39m9\u001b[39m\u001b[39m*\u001b[39m\u001b[39m*\u001b[39m\u001b[39m99\u001b[39m))\n\u001b[1;32m     <a href='vscode-notebook-cell:/Users/Oliver/Projects/typing-game/Typing_Game.ipynb#ch0000001?line=56'>57</a>\u001b[0m start_time \u001b[39m=\u001b[39m time\u001b[39m.\u001b[39mperf_counter()\n\u001b[0;32m---> <a href='vscode-notebook-cell:/Users/Oliver/Projects/typing-game/Typing_Game.ipynb#ch0000001?line=57'>58</a>\u001b[0m player_input \u001b[39m=\u001b[39m \u001b[39minput\u001b[39m(\u001b[39mf\u001b[39m\u001b[39m\"\u001b[39m\u001b[39m{\u001b[39;00mrandom_phrase(seed)\u001b[39m}\u001b[39;00m\u001b[39m\"\u001b[39m)\n\u001b[1;32m     <a href='vscode-notebook-cell:/Users/Oliver/Projects/typing-game/Typing_Game.ipynb#ch0000001?line=58'>59</a>\u001b[0m match_phrase \u001b[39m=\u001b[39m random_phrase(seed)\n\u001b[1;32m     <a href='vscode-notebook-cell:/Users/Oliver/Projects/typing-game/Typing_Game.ipynb#ch0000001?line=59'>60</a>\u001b[0m \u001b[39m#player_input = input('test ') ## delete later\u001b[39;00m\n\u001b[1;32m     <a href='vscode-notebook-cell:/Users/Oliver/Projects/typing-game/Typing_Game.ipynb#ch0000001?line=60'>61</a>\u001b[0m \u001b[39m#match_phrase = 'test' ## delete later\u001b[39;00m\n",
      "\u001b[1;32m/Users/Oliver/Projects/typing-game/Typing_Game.ipynb Cell 5'\u001b[0m in \u001b[0;36mrandom_phrase\u001b[0;34m(seed)\u001b[0m\n\u001b[1;32m     <a href='vscode-notebook-cell:/Users/Oliver/Projects/typing-game/Typing_Game.ipynb#ch0000001?line=10'>11</a>\u001b[0m scrape_url \u001b[39m=\u001b[39m url\u001b[39m.\u001b[39mformat(n)\n\u001b[1;32m     <a href='vscode-notebook-cell:/Users/Oliver/Projects/typing-game/Typing_Game.ipynb#ch0000001?line=11'>12</a>\u001b[0m res \u001b[39m=\u001b[39m requests\u001b[39m.\u001b[39mget(scrape_url)\n\u001b[0;32m---> <a href='vscode-notebook-cell:/Users/Oliver/Projects/typing-game/Typing_Game.ipynb#ch0000001?line=12'>13</a>\u001b[0m soup \u001b[39m=\u001b[39m bs4\u001b[39m.\u001b[39;49mBeautifulSoup(res\u001b[39m.\u001b[39;49mtext,\u001b[39m\"\u001b[39;49m\u001b[39mlxml\u001b[39;49m\u001b[39m\"\u001b[39;49m)\n\u001b[1;32m     <a href='vscode-notebook-cell:/Users/Oliver/Projects/typing-game/Typing_Game.ipynb#ch0000001?line=14'>15</a>\u001b[0m \u001b[39mfor\u001b[39;00m quote \u001b[39min\u001b[39;00m soup\u001b[39m.\u001b[39mfind_all(attrs\u001b[39m=\u001b[39m(\u001b[39m'\u001b[39m\u001b[39mtext\u001b[39m\u001b[39m'\u001b[39m)):\n\u001b[1;32m     <a href='vscode-notebook-cell:/Users/Oliver/Projects/typing-game/Typing_Game.ipynb#ch0000001?line=15'>16</a>\u001b[0m     phrase_list\u001b[39m.\u001b[39mappend(quote\u001b[39m.\u001b[39mtext)\n",
      "File \u001b[0;32m/Library/Frameworks/Python.framework/Versions/3.10/lib/python3.10/site-packages/bs4/__init__.py:248\u001b[0m, in \u001b[0;36mBeautifulSoup.__init__\u001b[0;34m(self, markup, features, builder, parse_only, from_encoding, exclude_encodings, element_classes, **kwargs)\u001b[0m\n\u001b[1;32m    246\u001b[0m     builder_class \u001b[39m=\u001b[39m builder_registry\u001b[39m.\u001b[39mlookup(\u001b[39m*\u001b[39mfeatures)\n\u001b[1;32m    247\u001b[0m     \u001b[39mif\u001b[39;00m builder_class \u001b[39mis\u001b[39;00m \u001b[39mNone\u001b[39;00m:\n\u001b[0;32m--> 248\u001b[0m         \u001b[39mraise\u001b[39;00m FeatureNotFound(\n\u001b[1;32m    249\u001b[0m             \u001b[39m\"\u001b[39m\u001b[39mCouldn\u001b[39m\u001b[39m'\u001b[39m\u001b[39mt find a tree builder with the features you \u001b[39m\u001b[39m\"\u001b[39m\n\u001b[1;32m    250\u001b[0m             \u001b[39m\"\u001b[39m\u001b[39mrequested: \u001b[39m\u001b[39m%s\u001b[39;00m\u001b[39m. Do you need to install a parser library?\u001b[39m\u001b[39m\"\u001b[39m\n\u001b[1;32m    251\u001b[0m             \u001b[39m%\u001b[39m \u001b[39m\"\u001b[39m\u001b[39m,\u001b[39m\u001b[39m\"\u001b[39m\u001b[39m.\u001b[39mjoin(features))\n\u001b[1;32m    253\u001b[0m \u001b[39m# At this point either we have a TreeBuilder instance in\u001b[39;00m\n\u001b[1;32m    254\u001b[0m \u001b[39m# builder, or we have a builder_class that we can instantiate\u001b[39;00m\n\u001b[1;32m    255\u001b[0m \u001b[39m# with the remaining **kwargs.\u001b[39;00m\n\u001b[1;32m    256\u001b[0m \u001b[39mif\u001b[39;00m builder \u001b[39mis\u001b[39;00m \u001b[39mNone\u001b[39;00m:\n",
      "\u001b[0;31mFeatureNotFound\u001b[0m: Couldn't find a tree builder with the features you requested: lxml. Do you need to install a parser library?"
     ]
    }
   ],
   "source": [
    "def random_phrase(seed):\n",
    "    '''\n",
    "    Scrapes quotes from site, lists all quotes, \n",
    "    then generates a random quote.\n",
    "    '''\n",
    "    phrase_list = []\n",
    "\n",
    "    url = \"https://quotes.toscrape.com/page/{}/\"\n",
    "\n",
    "    for n in range(1,11):\n",
    "        scrape_url = url.format(n)\n",
    "        res = requests.get(scrape_url)\n",
    "        soup = bs4.BeautifulSoup(res.text,\"lxml\")\n",
    "\n",
    "        for quote in soup.find_all(attrs=('text')):\n",
    "            phrase_list.append(quote.text)\n",
    "\n",
    "    random.seed(seed)\n",
    "    random_phrase = random.choice(phrase_list)\n",
    "    return random_phrase[1:-1]\n",
    "\n",
    "print(\"How fast can you type?\\n\"\n",
    "    \"A randomly generated quote will appear.\\n\"\n",
    "    \"It's your job to accurately copy the quote as fast as you can.\\n\"\n",
    "    \"--------------------------------------------------------------\")\n",
    "    \n",
    "player_name = input(\"What is your name? \")\n",
    "print(f'PLAYER = {player_name}\\n'\n",
    "'--------------------------------------------------------------')\n",
    "game_on = False\n",
    "typing = True\n",
    "round_num = 0\n",
    "\n",
    "def ready_up():\n",
    "    game_on = False\n",
    "    ready = ''\n",
    "\n",
    "    while ready != 'yes' or ready != 'no':\n",
    "        ready = input(f\"{player_name}, are you ready to play? Yes or No: \").lower()\n",
    "\n",
    "        if ready == 'no':\n",
    "            game_on = False\n",
    "            print(\"Thank you for playing. Goodbye.\")\n",
    "            break\n",
    "        elif ready == 'yes':\n",
    "            game_on = True\n",
    "            return game_on\n",
    "        else:\n",
    "            print(\"Incorrect input. Try again.\")\n",
    "            print(\"---------------------------\")\n",
    "\n",
    "while ready_up() is True:\n",
    "    round_num += 1\n",
    "    print(f\"ROUND {round_num}\")\n",
    "    seed = random.randint(1,(9**99))\n",
    "    \n",
    "    start_time = time.perf_counter()\n",
    "    player_input = input(f\"{random_phrase(seed)}\")\n",
    "    match_phrase = random_phrase(seed)\n",
    "    #player_input = input('test ') ## delete later\n",
    "    #match_phrase = 'test' ## delete later\n",
    "\n",
    "    typing = True\n",
    "\n",
    "    while typing:\n",
    "\n",
    "        word_count = len(match_phrase.split(' '))\n",
    "        score_list = []\n",
    "        prev_round = 1 - round_num\n",
    "\n",
    "        if player_input == match_phrase:\n",
    "            end_time = time.perf_counter()\n",
    "            delta_time = end_time - start_time\n",
    "            wpm = word_count/(delta_time/60)\n",
    "            score_list.append(wpm)\n",
    "            print(f\"Correct!\\nYour time: {(round(delta_time,3))} seconds\")\n",
    "            print(f\"Words per minute: {round(wpm,3)}\")\n",
    "            print('---------------------------')\n",
    "    \n",
    "            if round_num > 1:\n",
    "                pass\n",
    "               # print(f\"Previous WPM: {score_list[prev_round]}\")\n",
    "            typing = False\n",
    "        \n",
    "        \n",
    "        elif player_input.lower() == 'quit':\n",
    "            break\n",
    "\n",
    "        else:\n",
    "            print(\"Incorrect input. Try again!\")\n",
    "            typing = False\n",
    "            \n",
    "# if player_input != match_phrase, don't go to next round\n"
   ]
  },
  {
   "cell_type": "code",
   "execution_count": null,
   "metadata": {},
   "outputs": [],
   "source": []
  }
 ],
 "metadata": {
  "kernelspec": {
   "display_name": "Python 3.10.5 64-bit",
   "language": "python",
   "name": "python3"
  },
  "language_info": {
   "codemirror_mode": {
    "name": "ipython",
    "version": 3
   },
   "file_extension": ".py",
   "mimetype": "text/x-python",
   "name": "python",
   "nbconvert_exporter": "python",
   "pygments_lexer": "ipython3",
   "version": "3.10.0"
  },
  "orig_nbformat": 4,
  "vscode": {
   "interpreter": {
    "hash": "aee8b7b246df8f9039afb4144a1f6fd8d2ca17a180786b69acc140d282b71a49"
   }
  }
 },
 "nbformat": 4,
 "nbformat_minor": 2
}
